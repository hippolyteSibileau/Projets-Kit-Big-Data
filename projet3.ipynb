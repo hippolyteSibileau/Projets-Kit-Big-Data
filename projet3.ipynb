{
 "cells": [
  {
   "cell_type": "markdown",
   "metadata": {},
   "source": [
    "# Projet maison n° 3"
   ]
  },
  {
   "cell_type": "code",
   "execution_count": 9,
   "metadata": {},
   "outputs": [],
   "source": [
    "# imports\n",
    "import pandas as pd"
   ]
  },
  {
   "cell_type": "markdown",
   "metadata": {},
   "source": [
    "## 1. US baby names\n",
    "\n",
    "On va s'intéresser au dataset **National data** de la SSA : https://www.ssa.gov/oact/babynames/limits.html\n",
    "\n",
    "1. Télécharger le dataset des prénoms US : https://www.ssa.gov/oact/babynames/names.zip\n",
    "\n",
    "Lire la documentation associée.\n",
    "\n",
    "2. Implémenter une fonction Python `df_names_us()` qui produit un unique DataFrame avec tous les fichiers en utilisant **pandas** (par ex. avec la fonction `pandas.concat()`), pas de bash :)\n",
    "\n",
    "Ordre et noms des colonnes du DataFrame : \"year\", \"name\", \"gender\", \"births\"\n",
    "\n",
    "Le DataFrame doit être trié selon l'année croissante puis selon l'ordre défini dans les différents fichiers (voir la documentation du dataset)."
   ]
  },
  {
   "cell_type": "code",
   "execution_count": 10,
   "metadata": {},
   "outputs": [
    {
     "name": "stdout",
     "output_type": "stream",
     "text": [
      "         year       name gender  births\n",
      "0        1880       Mary      F    7065\n",
      "1        1880       Anna      F    2604\n",
      "2        1880       Emma      F    2003\n",
      "3        1880  Elizabeth      F    1939\n",
      "4        1880     Minnie      F    1746\n",
      "...       ...        ...    ...     ...\n",
      "2052776  2021     Zyeire      M       5\n",
      "2052777  2021       Zyel      M       5\n",
      "2052778  2021      Zyian      M       5\n",
      "2052779  2021      Zylar      M       5\n",
      "2052780  2021        Zyn      M       5\n",
      "\n",
      "[2052781 rows x 4 columns]\n"
     ]
    }
   ],
   "source": [
    "# names us\n",
    "def df_names_us():\n",
    "    df = pd.DataFrame()\n",
    "\n",
    "    #lecture des fichiers 1 par 1 et ajout au DataFrame global\n",
    "    for k in range(1880,2022) :\n",
    "        file = 'yob' + str(k) + '.txt'\n",
    "        current_df = pd.read_csv(file, names = ['name', 'gender', 'births'],delimiter=\",\")\n",
    "        current_df['year'] = k\n",
    "        df = pd.concat([df,current_df],ignore_index=True)\n",
    "    df = df[['year','name','gender','births']]\n",
    "    return df\n",
    "print(df_names_us())\n"
   ]
  },
  {
   "cell_type": "markdown",
   "metadata": {},
   "source": [
    "## 2. Prénoms français"
   ]
  },
  {
   "cell_type": "markdown",
   "metadata": {},
   "source": [
    "On va s'intéresser au dataset **Fichiers France hors Mayotte** de l'INSEE :  https://www.insee.fr/fr/statistiques/2540004/\n",
    "\n",
    "L'idée est de charger les données et ensuite de les conformer au DataFrame des prénoms US. Ainsi, toute manipulation sur le DataFrame des prénoms US pourra être directement réutilisée avec le DataFrame des prénoms français.\n",
    " \n",
    "1. Télécharger le dataset des prénoms français : https://www.insee.fr/fr/statistiques/fichier/2540004/nat2021_csv.zip\n",
    "\n",
    "\n",
    "Lire la documentation, ça peut être utile...\n",
    " \n",
    "2. Implémenter une fonction `df_names_fr()` qui produit un DataFrame avec les prénoms français en prenant le DataFrame des prénoms US comme modèle :\n",
    " \n",
    " - Même ordre et mêmes noms des colonnes : \"year\", \"name\", \"gender\", \"births\"\n",
    " - Mêmes dtypes pour les colonnes\n",
    " - Mêmes valeurs pour la colonne \"gender\"\n",
    " - Seuls les prénoms de 2 caractères et plus sont conservés\n",
    " - La casse des prénoms doit être identique : initiales en majuscule, autres lettres en minuscule\n",
    " - Les lignes avec des données inutilisables doivent être supprimées\n",
    " - Les données sont triées à l'identique : year (↑), puis gender (↑), puis births (↓) et enfin name (↑)\n",
    " - L'index du DataFrame doit aller de 0 à N-1"
   ]
  },
  {
   "cell_type": "code",
   "execution_count": 11,
   "metadata": {},
   "outputs": [
    {
     "name": "stdout",
     "output_type": "stream",
     "text": [
      "        year        name gender  births\n",
      "0       1900       Marie      F   48713\n",
      "1       1900      Jeanne      F   13981\n",
      "2       1900  Marguerite      F    8058\n",
      "3       1900    Germaine      F    6981\n",
      "4       1900      Louise      F    6696\n",
      "...      ...         ...    ...     ...\n",
      "648325  2021       Élyam      M       3\n",
      "648326  2021       Énael      M       3\n",
      "648327  2021        Éros      M       3\n",
      "648328  2021        Étan      M       3\n",
      "648329  2021    Évariste      M       3\n",
      "\n",
      "[648330 rows x 4 columns]\n"
     ]
    }
   ],
   "source": [
    "# names fr\n",
    "def df_names_fr():\n",
    "    \n",
    "\n",
    "    #lecture fichier csv\n",
    "    df = pd.read_csv('nat2021.csv', names = ['gender', 'name', 'year', 'births' ], delimiter= ';', dtype= str).drop(index = 0) \n",
    "    \n",
    "    #suppression des données inutilisables et reformatage des prénoms\n",
    "    df = df[df['name'] != '_PRENOMS_RARES'] \n",
    "    df = df[df['name'].apply(lambda x : len(str(x))) != 1]  \n",
    "    df['name'] = df['name'].apply(lambda x : str(x).title()) \n",
    "    df = df[df['year'] != 'XXXX'] \n",
    "    \n",
    "    #mapping du genre\n",
    "    mapping = pd.Series({'2': 'F', 2 : 'F', '1': 'M', 1 : 'M'}) \n",
    "    df['gender'] = df['gender'].map(mapping)\n",
    "    \n",
    "    #reformatage et tri des colonnes\n",
    "    df = df[['year','name','gender','births']]\n",
    "    df['births'] = df['births'].astype(int)\n",
    "    df = df.sort_values(by = ['year' , 'gender', 'births', 'name'] , ascending= [True, True, False, True]) #tri selon les différents critères\n",
    "    \n",
    "\n",
    "    df.index = pd.RangeIndex(len(df))\n",
    "    \n",
    "\n",
    "    return df\n",
    "\n",
    "\n",
    "print(df_names_fr())"
   ]
  },
  {
   "cell_type": "markdown",
   "metadata": {},
   "source": [
    "## 3. Taux de change\n",
    "\n",
    "On va s'intéresser au dataset des cours des devises de la Banque de France :  http://webstat.banque-france.fr/fr/browseBox.do?node=5385566\n",
    "\n",
    "Les données sont dans le fichier \"Webstat_Export.csv\".\n",
    "\n",
    "L'idée est de charger les données, de les nettoyer et de pouvoir accéder aux cours de certaines devises à partir de leur code ISO3. On retiendra uniquement les colonnes se terminant effectivement par un code ISO3 entre parenthèses. Par ex., \"Dollar des Etats-Unis (USD)\".\n",
    "\n",
    "Implémenter une fonction `df_taux_change()` qui produit un DataFrame avec les taux de change par date pour une liste de codes ISO3 de devises passée en argument. L'index du DataFrame doit correspondre aux dates (voir la fonction `pd.to_datetime()` avec le format`\"%d/%m/%Y\"`) et doit être trié par ordre croissant. Les colonnes du DataFrame doivent correspondre aux devises sélectionnées."
   ]
  },
  {
   "cell_type": "code",
   "execution_count": 12,
   "metadata": {},
   "outputs": [
    {
     "name": "stdout",
     "output_type": "stream",
     "text": [
      "               CHF      GBP     USD\n",
      "Date                               \n",
      "1999-01-04  1.6168  0.71110  1.1789\n",
      "1999-01-05  1.6123  0.71220  1.1790\n",
      "1999-01-06  1.6116  0.70760  1.1743\n",
      "1999-01-07  1.6165  0.70585  1.1632\n",
      "1999-01-08  1.6138  0.70940  1.1659\n",
      "...            ...      ...     ...\n",
      "2022-09-19  0.9658  0.87785  0.9990\n",
      "2022-09-20  0.9644  0.87395  0.9986\n",
      "2022-09-21  0.9549  0.87335  0.9906\n",
      "2022-09-22  0.9684  0.87256  0.9884\n",
      "2022-09-23  0.9565  0.88201  0.9754\n",
      "\n",
      "[6078 rows x 3 columns]\n"
     ]
    }
   ],
   "source": [
    "# taux de change\n",
    "from cmath import nan\n",
    "from dataclasses import replace\n",
    "\n",
    "\n",
    "def df_taux_change(devises):\n",
    "    df = pd.read_csv('Webstat_Export_20220924.csv', delimiter= ';', header = 0, dtype = str).drop(index=[0,1,2,3,4])\n",
    "    \n",
    "    # transformation des noms de colonnes avec le code ISO3\n",
    "    columns = df.columns\n",
    "    columns = map(lambda x : x[x.find(\"(\")+1:x.find(\")\")], columns) \n",
    "    df.columns = columns\n",
    "    df = df[['Titre '] + devises]\n",
    "\n",
    "    # construction de l'index du dataframe sur les dates\n",
    "    df = df.rename(columns = {'Titre ' : 'Date'})\n",
    "    df['Date'] = pd.to_datetime(df['Date'], format=\"%d/%m/%Y\")\n",
    "    df = df.sort_values(by= ['Date'], ascending=[True])\n",
    "    df = df.set_index('Date')\n",
    "    \n",
    "    # suppression des colonnes dupliquées\n",
    "    duplicates = df.columns.duplicated()\n",
    "    df = df.loc[:, ~duplicates]\n",
    "\n",
    "    # conversion en flottants et supression des NaN\n",
    "    df = df.dropna()\n",
    "    df = df.applymap(lambda x : x.replace(',' , '.'))\n",
    "    df = df.applymap(lambda x : x.replace('-' , 'NaN'))\n",
    "    df = df.applymap(lambda x : float(x))\n",
    "    df = df.dropna()\n",
    "\n",
    "    return df\n",
    "\n",
    "\n",
    "\n",
    "\n",
    "df = df_taux_change(['CHF', 'GBP', 'USD'])\n",
    "print(df)\n",
    "\n"
   ]
  },
  {
   "cell_type": "markdown",
   "metadata": {},
   "source": [
    "### Tests"
   ]
  },
  {
   "cell_type": "code",
   "execution_count": 13,
   "metadata": {},
   "outputs": [],
   "source": [
    "import unittest\n",
    "\n",
    "class Session3Tests(unittest.TestCase):\n",
    "    def test_df_names_us(self):\n",
    "        df = df_names_us()\n",
    "        # colonnes\n",
    "        self.assertEqual(list(df.columns), [\"year\", \"name\", \"gender\", \"births\"])\n",
    "        # lignes\n",
    "        self.assertEqual(len(df), 2052781)\n",
    "        # index\n",
    "        self.assertTrue(isinstance(df.index, pd.core.indexes.range.RangeIndex))\n",
    "        # test NaN\n",
    "        self.assertTrue(df.loc[df.isnull().any(axis=1)].empty)\n",
    "        \n",
    "    def test_df_names_fr(self):\n",
    "        df = df_names_fr()\n",
    "        # colonnes\n",
    "        self.assertEqual(list(df.columns), [\"year\", \"name\", \"gender\", \"births\"])\n",
    "        # lignes\n",
    "        self.assertEqual(len(df), 648330)\n",
    "        # index\n",
    "        self.assertTrue(isinstance(df.index, pd.RangeIndex))\n",
    "        # test names\n",
    "        self.assertTrue(df.loc[df.name.str.contains(r\"^[A-Z]+$\")].empty)\n",
    "        self.assertTrue(df.loc[df.name.str.contains(r\"-[a-z]+$\")].empty)\n",
    "        # test gender\n",
    "        self.assertEqual(len(df), len(df.loc[df.gender==\"F\"]) + len(df.loc[df.gender=='M']))\n",
    "        # test NaN\n",
    "        self.assertTrue(df.loc[df.isnull().any(axis=1)].empty)\n",
    "\n",
    "    def test_df_taux_change(self):\n",
    "        df = df_taux_change([\"CHF\", \"GBP\", \"USD\"])\n",
    "        # colonnes\n",
    "        self.assertEqual(list(df.columns), [\"CHF\", \"GBP\", \"USD\"])\n",
    "        # index\n",
    "        self.assertTrue(isinstance(df.index, pd.DatetimeIndex))\n",
    "        # index trié\n",
    "        self.assertEqual(list(df.index.argsort()), list(range(len(df))))\n",
    "        # types taux\n",
    "        self.assertTrue((df.dtypes == float).all())\n",
    "        # test NaN\n",
    "        self.assertTrue(df.loc[df.isnull().any(axis=1)].empty)"
   ]
  },
  {
   "cell_type": "code",
   "execution_count": 14,
   "metadata": {},
   "outputs": [],
   "source": [
    "# run tests\n",
    "def run_tests():\n",
    "    test_suite = unittest.makeSuite(Session3Tests)\n",
    "    runner = unittest.TextTestRunner(verbosity=2)\n",
    "    runner.run(test_suite)"
   ]
  },
  {
   "cell_type": "code",
   "execution_count": 15,
   "metadata": {},
   "outputs": [
    {
     "name": "stderr",
     "output_type": "stream",
     "text": [
      "test_df_names_fr (__main__.Session3Tests) ... ok\n",
      "test_df_names_us (__main__.Session3Tests) ... ok\n",
      "test_df_taux_change (__main__.Session3Tests) ... ok\n",
      "\n",
      "----------------------------------------------------------------------\n",
      "Ran 3 tests in 9.178s\n",
      "\n",
      "OK\n"
     ]
    }
   ],
   "source": [
    "# run tests\n",
    "run_tests()"
   ]
  },
  {
   "cell_type": "code",
   "execution_count": null,
   "metadata": {},
   "outputs": [],
   "source": []
  }
 ],
 "metadata": {
  "kernelspec": {
   "display_name": "Python 3.10.6 64-bit",
   "language": "python",
   "name": "python3"
  },
  "language_info": {
   "codemirror_mode": {
    "name": "ipython",
    "version": 3
   },
   "file_extension": ".py",
   "mimetype": "text/x-python",
   "name": "python",
   "nbconvert_exporter": "python",
   "pygments_lexer": "ipython3",
   "version": "3.10.6"
  },
  "vscode": {
   "interpreter": {
    "hash": "da285fe5a810ca0135619b9907a5d7dd4904f6a625a227faa5b9da2e901ab7c2"
   }
  }
 },
 "nbformat": 4,
 "nbformat_minor": 4
}
