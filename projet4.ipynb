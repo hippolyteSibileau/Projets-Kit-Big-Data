{
 "cells": [
  {
   "cell_type": "markdown",
   "metadata": {},
   "source": [
    "# Projet maison n° 4"
   ]
  },
  {
   "cell_type": "code",
   "execution_count": 1,
   "metadata": {},
   "outputs": [],
   "source": [
    "# imports\n",
    "import requests\n",
    "from bs4 import BeautifulSoup"
   ]
  },
  {
   "cell_type": "markdown",
   "metadata": {},
   "source": [
    "**Partie A**\n",
    "\n",
    "Ecrire une fonction `get_prices_from_url()` qui extrait des informations à partir des 2 pages ci-dessous.\n",
    "\n",
    "```python\n",
    "URL_PAGE2 = \"https://kim.fspot.org/cours/page2.html\"\n",
    "URL_PAGE3 = \"https://kim.fspot.org/cours/page3.html\"\n",
    "```\n",
    "\n",
    "Avec `URL_PAGE2`, la fonction doit retourner :\n",
    "\n",
    "```json\n",
    "{'Personal': {'price': '$5', 'storage': '1GB', 'databases': 1},\n",
    " 'Small Business': {'price': '$25', 'storage': '10GB', 'databases': 5},\n",
    " 'Enterprise': {'price': '$45', 'storage': '100GB', 'databases': 25}}\n",
    "```"
   ]
  },
  {
   "cell_type": "code",
   "execution_count": 3,
   "metadata": {},
   "outputs": [
    {
     "data": {
      "text/plain": [
       "{'Personal': {'price': '$5', 'storage': '1GB', 'databases': 1},\n",
       " 'Small Business': {'price': '$25', 'storage': '10GB', 'databases': 5},\n",
       " 'Enterprise': {'price': '$45', 'storage': '100GB', 'databases': 25},\n",
       " 'Privilege': {'price': '$99', 'storage': '1TB', 'databases': 100}}"
      ]
     },
     "execution_count": 3,
     "metadata": {},
     "output_type": "execute_result"
    }
   ],
   "source": [
    "URL_PAGE2 = \"https://kim.fspot.org/cours/page2.html\"\n",
    "URL_PAGE3 = \"https://kim.fspot.org/cours/page3.html\"\n",
    "import sys\n",
    "import re\n",
    "\n",
    "def get_prices_from_url(url):\n",
    "    prices = {}\n",
    "    r = requests.get(url).content.decode('utf-8')\n",
    "    soup = BeautifulSoup(r)\n",
    "    num_page = str(int(re.findall(r'-?\\d+\\.?\\d*', url)[0][0]) + 1)\n",
    "    for div in soup.findAll('div', class_=\"pure-u-1 pure-u-md-1-\" + num_page) :\n",
    "        div_desc = div.descendants\n",
    "        for d in div_desc :\n",
    "\n",
    "            if d.name == 'li' and 'database' in d.text :\n",
    "                text = d.text\n",
    "                ndatabase_1 = str(re.findall(r'-?\\d+\\.?\\d*', text)[0])\n",
    "                ndatabase_2 = str(re.findall(\"[A-Za-z]+\",text)[0])\n",
    "\n",
    "            if d.name == 'li' and ('GB' in d.text or 'TB' in d.text) :\n",
    "                text = d.text\n",
    "                \n",
    "                stockage_1 = str(re.findall(r'-?\\d+\\.?\\d*', text)[0])\n",
    "                stockage_2 = str(re.findall(\"[A-Za-z]+\",text)[0])\n",
    "            \n",
    "            if d.name == 'h2' :\n",
    "                categ = d.text\n",
    "\n",
    "            if d.name == 'span' : \n",
    "                span_desc = d.descendants\n",
    "                for s in span_desc :\n",
    "                    if '$' in s.text :\n",
    "                        prix = s.text.replace(' ','')\n",
    "                        prix = prix.replace('\\n','')\n",
    "\n",
    "        prices[categ] = {'price' : prix, 'storage' : stockage_1 + stockage_2, 'databases' : int(ndatabase_1) }\n",
    "        \n",
    "    return prices\n",
    "\n",
    "get_prices_from_url(URL_PAGE3)"
   ]
  },
  {
   "cell_type": "markdown",
   "metadata": {},
   "source": [
    "**Partie B**\n",
    "\n",
    "*L'abus d'alcool est dangereux pour la santé, à consommer avec modération.*\n",
    "\n",
    "1) Ecrire une fonction `extract_beer_infos()` qui extrait des informations sur une bière du site de bières *beowulf*.\n",
    "\n",
    "Exemple d'URL: https://www.beerwulf.com/fr-fr/p/bieres/cuvee-des-trolls.33 \n",
    "\n",
    "La fonction doit retourner :\n",
    "```json\n",
    "{'Nom': 'Cuvée des Trolls',\n",
    " 'Style': 'Bière Blonde',\n",
    " 'Contenu': 25,\n",
    " 'Degré d’alcool': 7.0,\n",
    " 'Origine': 'Belgique',\n",
    " 'Brasseur': 'Brasserie Dubuisson Freres'}\n",
    "```\n",
    "\n",
    "2) L'URL ci-après retourne un JSON avec une liste de bières :\n",
    "\n",
    "```python\n",
    "URL_BEERLIST_FRANCE = \"https://www.beerwulf.com/fr-FR/api/search/searchProducts?country=France&container=Bouteille\"\n",
    "```\n",
    "\n",
    "Ecrire une fonction `extract_beer_list_infos(url)` qui prend en argument cet URL et retourne les informations sur une liste de bières du site *beowulf*.\n",
    "\n",
    "Cette fonction doit retourner la liste des informations obtenues par la fonction précédemment définie `extract_beer_infos()`.\n",
    "\n",
    "Exemple de retour :\n",
    "\n",
    "```json\n",
    "[{'Nom':'Desperados','Style':'Lager','Contenu':33,'Degré d’alcool':5.9,'Origine':'France','Brasseur':'Desperados'},\n",
    "{'Nom':'La Lager Sans Gluten de Vézelay','Style':'Lager','Contenu':25,'Degré d’alcool':4.0,'Origine':'France','Brasseur':'Brasserie de Vézelay'},\n",
    "{'Nom':'Mélusine Bio','Style':'Pale Ale','Contenu': 33,'Degré d’alcool': 5.0,'Origine':'France','Brasseur':'Mélusine'},\n",
    "{'Nom':'La Parisienne Le Titi Parisien','Style':'IPA','Contenu':33,'Degré d’alcool':5.5,'Origine':'France','Brasseur': 'Brasserie la Parisienne'},\n",
    "{'Nom':'Brasserie De Sutter Brin de Folie','Style':'Bière Blonde','Contenu': 33,'Degré d’alcool':6.5,'Origine':'France','Brasseur':'Brasserie de Sutter'}]\n",
    "```\n",
    "\n",
    "**Facultatif**\n",
    "\n",
    "Chercher comment optimiser cette fonction en utilisant `multiprocessing.Pool()` pour paralléliser les accès web."
   ]
  },
  {
   "cell_type": "code",
   "execution_count": 4,
   "metadata": {},
   "outputs": [
    {
     "data": {
      "text/plain": [
       "{'Nom': 'La Cristal IPA du Mont Blanc',\n",
       " 'Style': 'IPA',\n",
       " 'Contenu': 33,\n",
       " 'Degré d’alcool': 4.7,\n",
       " 'Origine': 'France',\n",
       " 'Brasseur': 'Mont-Blanc'}"
      ]
     },
     "execution_count": 4,
     "metadata": {},
     "output_type": "execute_result"
    }
   ],
   "source": [
    "# partie B-1\n",
    "def extract_beer_infos(url):\n",
    "    beer_infos = {\n",
    "        'Nom': None,\n",
    "        'Style': None,\n",
    "        'Contenu': None,\n",
    "        'Degré d’alcool': None,\n",
    "        'Origine': None,\n",
    "        'Brasseur': None\n",
    "    }\n",
    "    r = requests.get(url).content.decode('utf-8')\n",
    "    soup = BeautifulSoup(r)\n",
    "    rows = soup.find('dl', class_='row')\n",
    "\n",
    "    style = rows.find(text='Style').find_next().text\n",
    "    alcool = rows.find(text='Degré d’alcool').find_next().text\n",
    "    contenu = rows.find(text='Contenu').find_next().text\n",
    "    origine = rows.find(text= 'Origine').find_next().text\n",
    "    nom = soup.find('h1').text\n",
    "    brasseur = rows.find(text= 'Brasseur').find_next().text\n",
    "    \n",
    "    beer_infos['Nom'] = nom\n",
    "    beer_infos['Style'] = style.replace('\\n','')\n",
    "    beer_infos['Contenu'] = int(re.findall(r'-?\\d+\\.?\\d*',contenu)[0])\n",
    "    beer_infos['Degré d’alcool'] = float(alcool.replace('%','').replace(',','.'))\n",
    "    beer_infos['Origine'] = origine.replace('\\n','').replace('\\r','').replace(' ','')\n",
    "    beer_infos['Brasseur'] = brasseur.replace('\\n','').replace('\\r','').replace(' ','')\n",
    "\n",
    "\n",
    "\n",
    "    return beer_infos\n",
    "\n",
    "\n",
    "extract_beer_infos('https://www.beerwulf.com/fr-fr/p/bieres/la-cristal-ipa-du-mont-blanc.33')\n",
    "#extract_beer_infos('https://www.beerwulf.com/fr-fr/p/bieres/pelforth-blonde-fut-5l')\n"
   ]
  },
  {
   "cell_type": "code",
   "execution_count": 5,
   "metadata": {},
   "outputs": [
    {
     "data": {
      "text/plain": [
       "[{'Nom': 'La Cristal IPA du Mont Blanc',\n",
       "  'Style': 'IPA',\n",
       "  'Contenu': 33,\n",
       "  'Degré d’alcool': 4.7,\n",
       "  'Origine': 'France',\n",
       "  'Brasseur': 'Mont-Blanc'},\n",
       " {'Nom': 'Ninkasi Pale Ale',\n",
       "  'Style': 'Bière Ambrée',\n",
       "  'Contenu': 33,\n",
       "  'Degré d’alcool': 4.5,\n",
       "  'Origine': 'France',\n",
       "  'Brasseur': 'NinkasiFabriques'},\n",
       " {'Nom': 'Desperados',\n",
       "  'Style': 'Lager',\n",
       "  'Contenu': 33,\n",
       "  'Degré d’alcool': 5.9,\n",
       "  'Origine': 'France',\n",
       "  'Brasseur': 'Desperados'},\n",
       " {'Nom': 'Pietra',\n",
       "  'Style': 'Lager',\n",
       "  'Contenu': 33,\n",
       "  'Degré d’alcool': 6.0,\n",
       "  'Origine': 'France',\n",
       "  'Brasseur': 'BrasseriePietra'}]"
      ]
     },
     "execution_count": 5,
     "metadata": {},
     "output_type": "execute_result"
    }
   ],
   "source": [
    "# partie B-2\n",
    "\n",
    "\n",
    "URL_BEERLIST_FRANCE = \"https://www.beerwulf.com/fr-FR/api/search/searchProducts?country=France&container=Bouteille\"\n",
    "import json\n",
    "from multiprocessing import Pool\n",
    "from time import time\n",
    "\n",
    "def extract_beer_list_infos(url):\n",
    "    # Collecter les pages de bières à partir du JSON\n",
    "    beer_pages = []\n",
    "    pages = requests.get(url).content\n",
    "\n",
    "    pages = json.loads(pages)\n",
    "    for page in pages['items'] :\n",
    "        beer_pages.append(str('https://www.beerwulf.com' + page['contentReference']))\n",
    "    \n",
    "    # Sequential version (slow):\n",
    "    beers = []\n",
    "    for beer_page in beer_pages :\n",
    "        beers.append(extract_beer_infos(beer_page))\n",
    "        \n",
    "    \n",
    "    return beers\n",
    "\n",
    "extract_beer_list_infos(URL_BEERLIST_FRANCE)\n",
    "\n",
    "\n"
   ]
  },
  {
   "cell_type": "code",
   "execution_count": 6,
   "metadata": {},
   "outputs": [],
   "source": [
    "# Facultatif\n",
    "    \n",
    "\n",
    "from multiprocessing import Pool\n",
    "from time import time\n",
    "\n",
    "URL_BEERLIST_FRANCE = \"https://www.beerwulf.com/fr-FR/api/search/searchProducts?country=France&container=Bouteille\"\n",
    "import json\n",
    "from multiprocessing import Pool\n",
    "from time import time\n",
    "\n",
    "def extract_beer_list_infos(url):\n",
    "    # Collecter les pages de bières à partir du JSON\n",
    "    beer_pages = []\n",
    "    pages = requests.get(url).content\n",
    "\n",
    "    pages = json.loads(pages)\n",
    "    for page in pages['items'] :\n",
    "        beer_pages.append(str('https://www.beerwulf.com' + page['contentReference']))\n",
    "    \n",
    "    # Parallel version (faster):\n",
    "    beers = []\n",
    "    \n",
    "    if __name__ == \"__main__\":\n",
    "       pool = Pool()\n",
    "       pool.map(extract_beer_infos, beer_pages)\n",
    "       pool.close()\n",
    "       \n",
    "    \n",
    "    \n",
    "    return beers\n",
    "\n",
    "#extract_beer_list_infos(URL_BEERLIST_FRANCE)"
   ]
  },
  {
   "cell_type": "code",
   "execution_count": 6,
   "metadata": {},
   "outputs": [],
   "source": [
    "import unittest\n",
    "\n",
    "class Session4Tests(unittest.TestCase):\n",
    "    def test_01_get_prices_from_url_page2(self):\n",
    "        prices = get_prices_from_url(URL_PAGE2)\n",
    "        # We should have found 3 products:\n",
    "        self.assertIsInstance(prices, dict)\n",
    "        self.assertEqual(len(prices), 3)\n",
    "        self.assertIn('Personal', prices)\n",
    "        self.assertIn('Small Business', prices)\n",
    "        self.assertIn('Enterprise', prices)\n",
    "        \n",
    "        personal = prices['Personal']\n",
    "        self.assertIn('price', personal)\n",
    "        self.assertIn('storage', personal)\n",
    "        self.assertIn('databases', personal)\n",
    "        self.assertEqual(personal['price'], '$5')\n",
    "        self.assertEqual(personal['storage'], '1GB')\n",
    "        self.assertEqual(personal['databases'], 1)\n",
    "        \n",
    "    def test_02_get_prices_from_url_page3(self):\n",
    "        prices = get_prices_from_url(URL_PAGE3)\n",
    "        self.assertIsInstance(prices, dict)\n",
    "        self.assertEqual(len(prices), 4)\n",
    "        self.assertEqual(\n",
    "            prices['Privilege'],\n",
    "            {'databases': 100, 'price': '$99', 'storage': '1TB'}\n",
    "        )\n",
    "    \n",
    "    def test_03_extract_beer_list_infos(self):\n",
    "        infos = extract_beer_list_infos(URL_BEERLIST_FRANCE)\n",
    "        self.assertIsInstance(infos, list)\n",
    "        self.assertGreater(len(infos), 1)\n",
    "        # Contenu = int\n",
    "        # Degré d’alcool = float\n",
    "        for beer in infos:\n",
    "            self.assertIsInstance(beer['Nom'], str)\n",
    "            self.assertIsInstance(beer['Style'], str)\n",
    "            self.assertIsInstance(beer['Contenu'], int)\n",
    "            self.assertIsInstance(beer['Degré d’alcool'], float)\n",
    "            self.assertEqual(beer['Origine'], \"France\")\n",
    "            self.assertIsInstance(beer['Brasseur'], str)\n",
    "\n",
    "            \n",
    "def run_tests():\n",
    "    test_suite = unittest.makeSuite(Session4Tests)\n",
    "    runner = unittest.TextTestRunner(verbosity=2)\n",
    "    runner.run(test_suite)"
   ]
  },
  {
   "cell_type": "code",
   "execution_count": 7,
   "metadata": {},
   "outputs": [
    {
     "name": "stderr",
     "output_type": "stream",
     "text": [
      "test_01_get_prices_from_url_page2 (__main__.Session4Tests) ... ok\n",
      "test_02_get_prices_from_url_page3 (__main__.Session4Tests) ... ok\n",
      "test_03_extract_beer_list_infos (__main__.Session4Tests) ... ok\n",
      "\n",
      "----------------------------------------------------------------------\n",
      "Ran 3 tests in 1.941s\n",
      "\n",
      "OK\n"
     ]
    }
   ],
   "source": [
    "if __name__ == '__main__':\n",
    "    run_tests()"
   ]
  }
 ],
 "metadata": {
  "kernelspec": {
   "display_name": "Python 3.10.6 64-bit",
   "language": "python",
   "name": "python3"
  },
  "language_info": {
   "codemirror_mode": {
    "name": "ipython",
    "version": 3
   },
   "file_extension": ".py",
   "mimetype": "text/x-python",
   "name": "python",
   "nbconvert_exporter": "python",
   "pygments_lexer": "ipython3",
   "version": "3.10.6"
  },
  "vscode": {
   "interpreter": {
    "hash": "da285fe5a810ca0135619b9907a5d7dd4904f6a625a227faa5b9da2e901ab7c2"
   }
  }
 },
 "nbformat": 4,
 "nbformat_minor": 4
}
