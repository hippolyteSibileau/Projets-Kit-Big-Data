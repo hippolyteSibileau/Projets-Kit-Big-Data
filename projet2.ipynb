{
 "cells": [
  {
   "cell_type": "markdown",
   "metadata": {},
   "source": [
    "\n",
    "# Projet Maison 2"
   ]
  },
  {
   "cell_type": "code",
   "execution_count": 1,
   "metadata": {
    "scrolled": false
   },
   "outputs": [],
   "source": [
    "# import des modules usuels\n",
    "import numpy as np\n",
    "import pandas as pd\n",
    "\n",
    "# options d'affichage\n",
    "pd.set_option(\"display.min_rows\", 16)"
   ]
  },
  {
   "cell_type": "code",
   "execution_count": 2,
   "metadata": {
    "scrolled": true
   },
   "outputs": [
    {
     "name": "stdout",
     "output_type": "stream",
     "text": [
      "           Code Postal                     Commune        Département  \\\n",
      "Code INSEE                                                              \n",
      "31080            31350          BOULOGNE-SUR-GESSE      HAUTE-GARONNE   \n",
      "11143            11510                     FEUILLA               AUDE   \n",
      "43028            43200                  BESSAMOREL        HAUTE-LOIRE   \n",
      "78506            78660          PRUNAY-EN-YVELINES           YVELINES   \n",
      "84081            84310        MORIERES-LES-AVIGNON           VAUCLUSE   \n",
      "80462            80150              LAMOTTE-BULEUX              SOMME   \n",
      "40200            40410                     MOUSTEY             LANDES   \n",
      "17394            17700      SAINT-SATURNIN-DU-BOIS  CHARENTE-MARITIME   \n",
      "...                ...                         ...                ...   \n",
      "15024            15700                     BRAGEAC             CANTAL   \n",
      "76008            76370                     ANCOURT     SEINE-MARITIME   \n",
      "02137            02810                   BUSSIARES              AISNE   \n",
      "74066            74270                   CHAVANNAZ       HAUTE-SAVOIE   \n",
      "67315            67630  NEEWILLER-PRES-LAUTERBOURG           BAS-RHIN   \n",
      "07122            07200     LACHAPELLE-SOUS-AUBENAS            ARDECHE   \n",
      "01026            01380              BAGE-LE-CHATEL                AIN   \n",
      "50224            50160                GUILBERVILLE             MANCHE   \n",
      "\n",
      "                                Région            Statut  Altitude Moyenne  \\\n",
      "Code INSEE                                                                   \n",
      "31080                    MIDI-PYRENEES  Chef-lieu canton             301.0   \n",
      "11143             LANGUEDOC-ROUSSILLON    Commune simple             314.0   \n",
      "43028                         AUVERGNE    Commune simple             888.0   \n",
      "78506                    ILE-DE-FRANCE    Commune simple             155.0   \n",
      "84081       PROVENCE-ALPES-COTE D'AZUR    Commune simple              49.0   \n",
      "80462                         PICARDIE    Commune simple              59.0   \n",
      "40200                        AQUITAINE    Commune simple              49.0   \n",
      "17394                 POITOU-CHARENTES    Commune simple              45.0   \n",
      "...                                ...               ...               ...   \n",
      "15024                         AUVERGNE    Commune simple             555.0   \n",
      "76008                  HAUTE-NORMANDIE    Commune simple              80.0   \n",
      "02137                         PICARDIE    Commune simple             141.0   \n",
      "74066                      RHONE-ALPES    Commune simple             564.0   \n",
      "67315                           ALSACE    Commune simple             157.0   \n",
      "07122                      RHONE-ALPES    Commune simple             257.0   \n",
      "01026                      RHONE-ALPES  Chef-lieu canton             202.0   \n",
      "50224                  BASSE-NORMANDIE    Commune simple             165.0   \n",
      "\n",
      "            Superficie  Population                    geo_point_2d  \\\n",
      "Code INSEE                                                           \n",
      "31080           2470.0         1.6   43.2904403081, 0.650641474176   \n",
      "11143           2426.0         0.1    42.9291375888, 2.90138923544   \n",
      "43028            743.0         0.4    45.1306448726, 4.07952494849   \n",
      "78506           2717.0         0.8    48.5267627187, 1.80513972814   \n",
      "84081           1042.0         7.6    43.9337788848, 4.90875878315   \n",
      "80462            613.0         0.4    50.1865666179, 1.83564836965   \n",
      "40200           6736.0         0.7  44.3882918763, -0.750880080586   \n",
      "17394           2528.0         0.9  46.1401428747, -0.665133364912   \n",
      "...                ...         ...                             ...   \n",
      "15024           1222.0         0.1    45.2038604898, 2.26559675808   \n",
      "76008           1252.0         0.7    49.9085547953, 1.17898885458   \n",
      "02137            769.0         0.1    49.0765910572, 3.25026191909   \n",
      "74066            321.0         0.2    46.0500384099, 6.01652644319   \n",
      "67315            725.0         0.7    48.9516989257, 8.11931601006   \n",
      "07122           1018.0         1.5    44.5622616562, 4.35906947518   \n",
      "01026             86.0         0.8    46.3077069231, 4.92862084189   \n",
      "50224           2224.0         1.0  48.9866701737, -0.949588175705   \n",
      "\n",
      "                                                    geo_shape   Latitude  \\\n",
      "Code INSEE                                                                 \n",
      "31080       {\"type\": \"Polygon\", \"coordinates\": [[[0.671852...  43.290440   \n",
      "11143       {\"type\": \"Polygon\", \"coordinates\": [[[2.906996...  42.929138   \n",
      "43028       {\"type\": \"Polygon\", \"coordinates\": [[[4.091674...  45.130645   \n",
      "78506       {\"type\": \"Polygon\", \"coordinates\": [[[1.829610...  48.526763   \n",
      "84081       {\"type\": \"Polygon\", \"coordinates\": [[[4.927176...  43.933779   \n",
      "80462       {\"type\": \"Polygon\", \"coordinates\": [[[1.849459...  50.186567   \n",
      "40200       {\"type\": \"Polygon\", \"coordinates\": [[[-0.71016...  44.388292   \n",
      "17394       {\"type\": \"Polygon\", \"coordinates\": [[[-0.66124...  46.140143   \n",
      "...                                                       ...        ...   \n",
      "15024       {\"type\": \"Polygon\", \"coordinates\": [[[2.302124...  45.203860   \n",
      "76008       {\"type\": \"Polygon\", \"coordinates\": [[[1.205457...  49.908555   \n",
      "02137       {\"type\": \"Polygon\", \"coordinates\": [[[3.258096...  49.076591   \n",
      "74066       {\"type\": \"Polygon\", \"coordinates\": [[[6.026228...  46.050038   \n",
      "67315       {\"type\": \"Polygon\", \"coordinates\": [[[8.106826...  48.951699   \n",
      "07122       {\"type\": \"Polygon\", \"coordinates\": [[[4.356584...  44.562262   \n",
      "01026       {\"type\": \"Polygon\", \"coordinates\": [[[4.926593...  46.307707   \n",
      "50224       {\"type\": \"Polygon\", \"coordinates\": [[[-0.99753...  48.986670   \n",
      "\n",
      "            Longitude                          cp_ville  \n",
      "Code INSEE                                               \n",
      "31080        0.650641          31350 BOULOGNE-SUR-GESSE  \n",
      "11143        2.901389                     11510 FEUILLA  \n",
      "43028        4.079525                  43200 BESSAMOREL  \n",
      "78506        1.805140          78660 PRUNAY-EN-YVELINES  \n",
      "84081        4.908759        84310 MORIERES-LES-AVIGNON  \n",
      "80462        1.835648              80150 LAMOTTE-BULEUX  \n",
      "40200       -0.750880                     40410 MOUSTEY  \n",
      "17394       -0.665133      17700 SAINT-SATURNIN-DU-BOIS  \n",
      "...               ...                               ...  \n",
      "15024        2.265597                     15700 BRAGEAC  \n",
      "76008        1.178989                     76370 ANCOURT  \n",
      "02137        3.250262                   02810 BUSSIARES  \n",
      "74066        6.016526                   74270 CHAVANNAZ  \n",
      "67315        8.119316  67630 NEEWILLER-PRES-LAUTERBOURG  \n",
      "07122        4.359069     07200 LACHAPELLE-SOUS-AUBENAS  \n",
      "01026        4.928621              01380 BAGE-LE-CHATEL  \n",
      "50224       -0.949588                50160 GUILBERVILLE  \n",
      "\n",
      "[36742 rows x 13 columns]\n"
     ]
    }
   ],
   "source": [
    "# chargement et traitement des données\n",
    "GEO = pd.read_csv(\"correspondance-code-insee-code-postal.csv\",\n",
    "                   sep=';',\n",
    "                   usecols=range(11),\n",
    "                   index_col=\"Code INSEE\")\n",
    "\n",
    "lat_lon = GEO['geo_point_2d']\n",
    "array = lat_lon.to_numpy()\n",
    "lat, lon = [],[]\n",
    "for element in array :\n",
    "    element = element.split(',')\n",
    "    lat.append(float(element[0]))\n",
    "    lon.append(float(element[1]))\n",
    "\n",
    "GEO['Latitude'] = lat\n",
    "GEO['Longitude'] = lon\n",
    "GEO['cp_ville'] = GEO['Code Postal'] + \" \" + GEO['Commune']\n",
    "    \n",
    "\n",
    "print(GEO)\n",
    "\n",
    "\n",
    "# A COMPLETER avec les colonnes\n",
    "# - lat, lon : latitude et longitude des communes\n",
    "# - cp_ville : Code Postal + \" \" + \"Commune\""
   ]
  },
  {
   "cell_type": "markdown",
   "metadata": {},
   "source": [
    "**Partie A**\n",
    "\n",
    "- Compléter le chargement des données en ajoutant au dataframe `GEO`\n",
    "    - les colonnes \"lat\" et \"lon\" avec la latitude et la longitude des communes\n",
    "    - une colonne \"cp_ville\" avec le Code Postal + un espace + et le nom de la Commune\n",
    "- Ecrire une fonction `search_city(lat, lon)` qui retourne le \"cp_ville\" de la commune la plus proche d'un point à partir de sa latitude et sa longitude.\n",
    "- Ecrire une fonction `dms2dec(deg, min, sec)` qui convertit les degrés, minutes, secondes en valeur numérique pour pouvoir utiliser la fonction précédente avec un GPS."
   ]
  },
  {
   "cell_type": "code",
   "execution_count": 3,
   "metadata": {
    "scrolled": false
   },
   "outputs": [
    {
     "name": "stdout",
     "output_type": "stream",
     "text": [
      "31350 BOULOGNE-SUR-GESSE\n"
     ]
    }
   ],
   "source": [
    "# fonction recherche de ville\n",
    "\n",
    "\n",
    "\n",
    "def search_city(lat, long):\n",
    "    GEO['Distance'] = (GEO['Latitude'] - lat)**2 + (GEO['Longitude'] - long)**2 # on calcule la distance euclidienne entre les deux paires de cordonnées\n",
    "    return GEO['cp_ville'][GEO['Distance'].idxmin()]\n",
    "\n",
    "\n",
    "    \n",
    "print(search_city(43.3,0.65))"
   ]
  },
  {
   "cell_type": "code",
   "execution_count": 4,
   "metadata": {
    "scrolled": false
   },
   "outputs": [],
   "source": [
    "# conversion degrés, minutes, secondes => décimal\n",
    "def dms2dec(deg, mn, sec):\n",
    "    return deg + mn/60 + sec/3600"
   ]
  },
  {
   "cell_type": "code",
   "execution_count": 5,
   "metadata": {
    "scrolled": false
   },
   "outputs": [
    {
     "data": {
      "text/plain": [
       "'71330 BOSJEAN'"
      ]
     },
     "execution_count": 5,
     "metadata": {},
     "output_type": "execute_result"
    }
   ],
   "source": [
    "# on applique la fonction à une coordonnée tirée au hasard\n",
    "np.random.seed(0)\n",
    "a, b = 41.5, 51.1  # latitude min et max de la France métropolitaine\n",
    "lat = np.random.uniform(a, b)\n",
    "a, b = -5.1, 9.5  # longitude min et max de la France métropolitaine\n",
    "lon = np.random.uniform(a, b)\n",
    "\n",
    "search_city(lat, lon)"
   ]
  },
  {
   "cell_type": "code",
   "execution_count": 6,
   "metadata": {
    "scrolled": false
   },
   "outputs": [
    {
     "data": {
      "text/plain": [
       "'91120 PALAISEAU'"
      ]
     },
     "execution_count": 6,
     "metadata": {},
     "output_type": "execute_result"
    }
   ],
   "source": [
    "# à partir de coordonnées GPS précises\n",
    "search_city(dms2dec(48, 42, 52), dms2dec(2, 14, 45))"
   ]
  },
  {
   "cell_type": "markdown",
   "metadata": {},
   "source": [
    "**Partie B**\n",
    "\n",
    "La colonne \"geo_shape\" comporte des chaines de catactères au format JSON. Elles représentent les formes géométriques des communes qui sont soit des polygones soit composées de plusieurs polygones.\n",
    "\n",
    "- Utiliser la librairie Python **json** pour parser les valeurs de la colonne \"geo_shape\" et mettre le résultat (`Series`) dans la variable `GEO_SHAPE`.\n",
    "- Ecrire une fonction `get_types()` qui retourne le décompte (`value_counts()`) des valeurs accédées avec la clé \"type\".\n",
    "- Ecrire une fonction `get_coordinates_len()` qui retourne le décompte (`value_counts()`) des longueurs des listes accédées avec la clé \"coordinates\".\n",
    "- Ecrire une fonction `get_most_complex_city()` qui retourne la commune est constituée du plus grand nombre de polygones ?\n",
    "- Ecrire une fonction `get_nb_cities_2_polygons()` qui retourne  le nombre de villes qui sont de type \"Polygon\" mais dont la longueur des listes accédées avec la clé \"coordinates\" vaut 2 ?\n",
    "- **Facultatif :**\n",
    "- Pour ces villes vérifier que le premier polygone contient bien le second (enclave). NB : on pourra installer la librairie **shapely**, utiliser la classe Polygon de **shapely.geometry**  et la méthode `contains()`. Sur Windows **shapely** peut nécessiter d'installer manuellement la dll \"geos_c.dll\" dans le répertoire \"Library/bin\" de votre environnement Python."
   ]
  },
  {
   "cell_type": "code",
   "execution_count": 7,
   "metadata": {},
   "outputs": [],
   "source": [
    "# GEO_SHAPE\n",
    "\n",
    "# La variable GEO_SHAPE doit contenir une Serie\n",
    "# correspondant aux valeurs de la colonne \"geo_shape\" parsées avec la librairie json\n",
    "GEO_SHAPE = pd.Series(dtype=object)\n",
    "\n",
    "import json\n",
    "shape = []\n",
    "for element in GEO['geo_shape']:\n",
    "    element = json.loads(element)\n",
    "    element = element[\"type\"]\n",
    "    shape.append(element)\n",
    "\n",
    "GEO_SHAPE = pd.Series(shape)\n",
    "\n"
   ]
  },
  {
   "cell_type": "code",
   "execution_count": 8,
   "metadata": {},
   "outputs": [
    {
     "name": "stdout",
     "output_type": "stream",
     "text": [
      "Polygon         36670.0\n",
      "MultiPolygon       72.0\n",
      "dtype: float64\n"
     ]
    }
   ],
   "source": [
    "# value_counts des valeurs \"type\"\n",
    "def get_types():\n",
    "    dico = GEO_SHAPE.value_counts('type')\n",
    "    return dico*len(GEO_SHAPE)\n",
    "print(get_types())"
   ]
  },
  {
   "cell_type": "code",
   "execution_count": 9,
   "metadata": {},
   "outputs": [],
   "source": [
    "# value_counts des longueurs de \"coordinates\"\n",
    "def get_coordinates_len():\n",
    "    dico = {}\n",
    "    for element in GEO['geo_shape']:\n",
    "        element = json.loads(element)\n",
    "        if len(element[\"coordinates\"]) in dico :\n",
    "            dico[len(element[\"coordinates\"])] += 1\n",
    "        else :\n",
    "            dico[len(element[\"coordinates\"])] = 1  \n",
    "    return(dico)"
   ]
  },
  {
   "cell_type": "code",
   "execution_count": 33,
   "metadata": {},
   "outputs": [],
   "source": [
    "# commune constituée du plus grand nombre de polygones\n",
    "def get_most_complex_city():\n",
    "    length_list = []\n",
    "    for element in GEO['geo_shape']:\n",
    "        element = json.loads(element)\n",
    "        length_list.append(len(element['coordinates']))\n",
    "    return(GEO['cp_ville'][length_list.index(max(length_list))])\n",
    "\n"
   ]
  },
  {
   "cell_type": "code",
   "execution_count": 29,
   "metadata": {},
   "outputs": [
    {
     "name": "stdout",
     "output_type": "stream",
     "text": [
      "10\n"
     ]
    }
   ],
   "source": [
    "# commune constituée du plus grand nombre de polygones\n",
    "def get_nb_cities_2_polygons():\n",
    "    a = GEO_SHAPE.value_counts('type')\n",
    "    dico_length = []\n",
    "    c=0\n",
    "    for element in GEO['geo_shape']:\n",
    "        element = json.loads(element)\n",
    "        if element[\"type\"] == 'Polygon' and len(element[\"coordinates\"]) > 1 :\n",
    "            c +=1 \n",
    "    return c\n",
    "                                              \n",
    "\n",
    "print(get_nb_cities_2_polygons())\n",
    "    "
   ]
  },
  {
   "cell_type": "code",
   "execution_count": 30,
   "metadata": {},
   "outputs": [],
   "source": [
    "# tests\n",
    "import unittest\n",
    "\n",
    "class Session2Test(unittest.TestCase):\n",
    "    \n",
    "    def test_partie_A1(self):\n",
    "        # on applique la fonction cherche_ville() à une coordonnée tirée au hasard\n",
    "        np.random.seed(0)\n",
    "        a, b = 41.5, 51.1  # latitude min et max de la France métropolitaine\n",
    "        lat = np.random.uniform(a, b)\n",
    "        a, b = -5.1, 9.5  # longitude min et max de la France métropolitaine\n",
    "        lon = np.random.uniform(a, b)\n",
    "\n",
    "        cp_ville = search_city(lat, lon)\n",
    "        self.assertEqual(cp_ville, \"71330 BOSJEAN\")\n",
    "        \n",
    "    def test_partie_A2(self):\n",
    "        # à partir de coordonnées GPS précises\n",
    "        cp_ville = search_city(dms2dec(48, 42, 52), dms2dec(2, 14, 45))\n",
    "        self.assertEqual(cp_ville, \"91120 PALAISEAU\")\n",
    "        \n",
    "    def test_partie_B1(self):\n",
    "        # check types\n",
    "        dico = get_types()\n",
    "        self.assertEqual(dico[\"Polygon\"], 36670)\n",
    "        self.assertEqual(dico[\"MultiPolygon\"], 72)\n",
    "        \n",
    "    def test_partie_B2(self):\n",
    "        # check coordinates len\n",
    "        dico = get_coordinates_len()\n",
    "        self.assertEqual(dico[1], 36660)\n",
    "        self.assertEqual(dico[2], 80)\n",
    "       \n",
    "    def test_partie_B3(self):\n",
    "        # check most complex city\n",
    "        cp_ville = get_most_complex_city()\n",
    "        self.assertEqual(cp_ville, \"83400 HYERES\")\n",
    "        \n",
    "    def test_partie_B4(self):\n",
    "        # check nb cities 2 polygons\n",
    "        nb = get_nb_cities_2_polygons()\n",
    "        self.assertEqual(nb, 10)"
   ]
  },
  {
   "cell_type": "code",
   "execution_count": 34,
   "metadata": {},
   "outputs": [
    {
     "name": "stderr",
     "output_type": "stream",
     "text": [
      "test_partie_A1 (__main__.Session2Test) ... ok\n",
      "test_partie_A2 (__main__.Session2Test) ... ok\n",
      "test_partie_B1 (__main__.Session2Test) ... ok\n",
      "test_partie_B2 (__main__.Session2Test) ... ok\n",
      "test_partie_B3 (__main__.Session2Test) ... ok\n",
      "test_partie_B4 (__main__.Session2Test) ... ok\n",
      "\n",
      "----------------------------------------------------------------------\n",
      "Ran 6 tests in 4.916s\n",
      "\n",
      "OK\n"
     ]
    }
   ],
   "source": [
    "# run tests\n",
    "def run_tests():\n",
    "    test_suite = unittest.makeSuite(Session2Test)\n",
    "    runner = unittest.TextTestRunner(verbosity=2)\n",
    "    runner.run(test_suite)\n",
    "    \n",
    "run_tests()"
   ]
  },
  {
   "cell_type": "code",
   "execution_count": null,
   "metadata": {},
   "outputs": [],
   "source": []
  }
 ],
 "metadata": {
  "anaconda-cloud": {},
  "kernelspec": {
   "display_name": "Python 3 (ipykernel)",
   "language": "python",
   "name": "python3"
  },
  "language_info": {
   "codemirror_mode": {
    "name": "ipython",
    "version": 3
   },
   "file_extension": ".py",
   "mimetype": "text/x-python",
   "name": "python",
   "nbconvert_exporter": "python",
   "pygments_lexer": "ipython3",
   "version": "3.9.12"
  }
 },
 "nbformat": 4,
 "nbformat_minor": 1
}
